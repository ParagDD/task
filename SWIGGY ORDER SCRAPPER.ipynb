{
 "cells": [
  {
   "cell_type": "code",
   "execution_count": 1,
   "id": "885a142b",
   "metadata": {},
   "outputs": [],
   "source": [
    "import requests\n",
    "from flask import Flask, jsonify, request\n",
    "from selenium import webdriver\n",
    "from bs4 import BeautifulSoup\n",
    "from selenium.webdriver.common.by import By\n",
    "from time import sleep\n",
    "import time\n"
   ]
  },
  {
   "cell_type": "code",
   "execution_count": 2,
   "id": "cb837201",
   "metadata": {},
   "outputs": [],
   "source": [
    "def scroll_to_end(wd, sleep_between_interactions):\n",
    "    \"\"\"\n",
    "    :param wd: give driver name {\"wd = webdriver.Chrome()\" and \"wd = webdriver.FirefoxOptions()\"}\n",
    "    :param sleep_between_interactions: fix the time sleep value according to your network connection\n",
    "    :return: scroll down to the end of your page\n",
    "    \"\"\"\n",
    "    prev_h = 0\n",
    "    while True:\n",
    "        height = wd.execute_script(\"\"\"\n",
    "                    function getActualHeight() {\n",
    "                        return Math.max(\n",
    "                            Math.max(document.body.scrollHeight, document.documentElement.scrollHeight),\n",
    "                            Math.max(document.body.offsetHeight, document.documentElement.offsetHeight),\n",
    "                            Math.max(document.body.clientHeight, document.documentElement.clientHeight)\n",
    "                        );\n",
    "                    }\n",
    "                    return getActualHeight();\n",
    "                \"\"\")\n",
    "        wd.execute_script(f\"window.scrollTo({prev_h},{prev_h + 200})\")\n",
    "        # fix the time sleep value according to your network connection\n",
    "        time.sleep(sleep_between_interactions)\n",
    "        prev_h += 200\n",
    "        if prev_h >= height:\n",
    "            break"
   ]
  },
  {
   "cell_type": "code",
   "execution_count": 3,
   "id": "3a33da5b",
   "metadata": {
    "scrolled": true
   },
   "outputs": [
    {
     "name": "stdout",
     "output_type": "stream",
     "text": [
      " * Serving Flask app \"__main__\" (lazy loading)\n",
      " * Environment: production\n",
      "   WARNING: This is a development server. Do not use it in a production deployment.\n",
      "   Use a production WSGI server instead.\n",
      " * Debug mode: off\n"
     ]
    },
    {
     "name": "stderr",
     "output_type": "stream",
     "text": [
      " * Running on http://localhost:8000/ (Press CTRL+C to quit)\n",
      "127.0.0.1 - - [09/Oct/2022 19:21:27] \"\u001b[37mPOST /login HTTP/1.1\u001b[0m\" 200 -\n",
      "127.0.0.1 - - [09/Oct/2022 19:21:55] \"\u001b[37mPOST /otp HTTP/1.1\u001b[0m\" 200 -\n"
     ]
    },
    {
     "name": "stdout",
     "output_type": "stream",
     "text": [
      "<class 'str'>\n"
     ]
    }
   ],
   "source": [
    "from flask import Flask, request, jsonify\n",
    "\n",
    "l =[]\n",
    "\n",
    "app = Flask(__name__)\n",
    "get_url = []\n",
    "@app.route('/login', methods=[\"GET\", \"POST\"])\n",
    "\n",
    "def api():\n",
    "    phone = request.json['number']\n",
    "    \n",
    "    driver = webdriver.Chrome()\n",
    "    driver.get('https://www.swiggy.com/?utm_source=Google-Sok&utm_medium=CPC&utm_campaign=google_search_sok_food_na_narm_order_web_m_web_clubbedcities_neev_brand_newuser_v1_v2_brand_em&gclid=EAIaIQobChMI4v_e8vjM-gIVVxwrCh1fHABtEAAYASAAEgKZT_D_BwE')\n",
    "    driver.maximize_window()\n",
    "\n",
    "    Login_button = driver.find_element(By.LINK_TEXT, 'Login').click()\n",
    "\n",
    "\n",
    "    driver.find_element(By.XPATH, \"//input[@class='_381fS']\").send_keys(phone)\n",
    "    driver.find_element(By.XPATH, \"//a[@class='a-ayg']\").click()\n",
    "    \n",
    "    #return jsonify(str('succesfully inserted'))\n",
    "    \n",
    "    \n",
    "    @app.route('/otp', methods=[\"GET\", \"POST\"])\n",
    "    def api1():\n",
    "        otpn = request.json['number']\n",
    "        \n",
    "        driver.find_element(By.XPATH, \"//input[@id='otp']\").send_keys(otpn)\n",
    "\n",
    "        driver.find_element(By.XPATH, \"//a[@class='a-ayg']\").click()\n",
    "        sleep(5)\n",
    "        driver.find_element(By.XPATH, \"//a[@title='View Account']\").click()\n",
    "        sleep(5)\n",
    "        #scroll_to_end(driver, 1)\n",
    "        content = driver.page_source.strip()\n",
    "        print(type(content))\n",
    "        l.append(content)\n",
    "        \n",
    "        driver.close()\n",
    "        return jsonify(str('otp accepted'))\n",
    "    \n",
    "    return jsonify(\"data\")\n",
    "\n",
    "\n",
    "if __name__ == '__main__':\n",
    "    #app.debug = True\n",
    "    app.run(host='localhost', port=8000)"
   ]
  },
  {
   "cell_type": "code",
   "execution_count": 50,
   "id": "4d47b32f",
   "metadata": {},
   "outputs": [],
   "source": [
    "l = ''.join(l)"
   ]
  },
  {
   "cell_type": "code",
   "execution_count": 51,
   "id": "3b7a7250",
   "metadata": {},
   "outputs": [],
   "source": [
    "soup = BeautifulSoup(l,'html.parser')"
   ]
  },
  {
   "cell_type": "code",
   "execution_count": 52,
   "id": "c3432a04",
   "metadata": {},
   "outputs": [],
   "source": [
    "all_orders = soup.find_all(\"div\",{\"class\":\"_3xMk0\"})"
   ]
  },
  {
   "cell_type": "code",
   "execution_count": 53,
   "id": "04783dd6",
   "metadata": {},
   "outputs": [
    {
     "data": {
      "text/plain": [
       "[<div class=\"_3xMk0\"><div class=\"g28rk\"><div class=\"_359Fc\"><img alt=\"\" class=\"_12_oN\" height=\"200\" width=\"300\"/></div><div class=\"_2XWVq\"><div class=\"_3h4gz\">Fish &amp; Fries</div><div class=\"_2haEe\">Hsr Layout</div><div class=\"_299_I\">ORDER #147723543118 | Sat, Oct 1, 2022, 11:49 PM</div><div class=\"_1ziWV\">VIEW DETAILS</div><div class=\"_2fkm7\"><span>Delivered on Sun, Oct 2, 2022, 12:17 AM<span class=\"h-Ntp icon-tickSharp\"></span></span></div></div></div><div class=\"_3SKK0\"><div class=\"_33I3_\">Tawa Catla Fish Fry (2 Pcs) x 1, Tawa/shallow - Mackerel [bangada] Fish Fry - 1pc x 1</div><div class=\"_2a27y\"><a class=\"_3PUy8 f4Ovn\">REORDER</a><a class=\"_3PUy8\">HELP</a></div><div class=\"_23DHc\">Total Paid: <span class=\"_1jGfr\"> 269 </span></div></div></div>,\n",
       " <div class=\"_3xMk0\"><div class=\"g28rk\"><div class=\"_359Fc\"><img alt=\"\" class=\"_12_oN\" height=\"200\" width=\"300\"/></div><div class=\"_2XWVq\"><div class=\"_3h4gz\">Hyderabadi Biryani Express</div><div class=\"_2haEe\">Karve Nagar</div><div class=\"_299_I\">ORDER #128685158512 | Wed, Feb 23, 2022, 03:22 PM</div><div class=\"_1ziWV\">VIEW DETAILS</div><div class=\"_2fkm7\"><span>Delivered on Wed, Feb 23, 2022, 03:48 PM<span class=\"h-Ntp icon-tickSharp\"></span></span></div></div></div><div class=\"_3SKK0\"><div class=\"_33I3_\">Hyderabadi Chicken Dum Biryani x 1</div><div class=\"_2a27y\"><a class=\"_3PUy8 f4Ovn\">REORDER</a><a class=\"_3PUy8\">HELP</a></div><div class=\"_23DHc\">Total Paid: <span class=\"_1jGfr\"> 189 </span></div></div></div>,\n",
       " <div class=\"_3xMk0\"><div class=\"g28rk\"><div class=\"_359Fc\"><img alt=\"\" class=\"_12_oN\" height=\"200\" width=\"300\"/></div><div class=\"_2XWVq\"><div class=\"_3h4gz\">Kalyan bhel</div><div class=\"_2haEe\">Katraj</div><div class=\"_299_I\">ORDER #123082271350 | Mon, Dec 20, 2021, 07:01 PM</div><div class=\"_1ziWV\">VIEW DETAILS</div><div class=\"_2fkm7\"><span>Delivered on Mon, Dec 20, 2021, 07:47 PM<span class=\"h-Ntp icon-tickSharp\"></span></span></div></div></div><div class=\"_3SKK0\"><div class=\"_33I3_\">Special Bhel x 1, Matki Bhel x 1, Dahi Ragdapuri x 1</div><div class=\"_2a27y\"><a class=\"_3PUy8 f4Ovn\">REORDER</a><a class=\"_3PUy8\">HELP</a></div><div class=\"_23DHc\">Total Paid: <span class=\"_1jGfr\"> 182 </span></div></div></div>]"
      ]
     },
     "execution_count": 53,
     "metadata": {},
     "output_type": "execute_result"
    }
   ],
   "source": [
    "all_orders"
   ]
  },
  {
   "cell_type": "code",
   "execution_count": null,
   "id": "734a4bdd",
   "metadata": {},
   "outputs": [],
   "source": []
  },
  {
   "cell_type": "code",
   "execution_count": null,
   "id": "9f8cc0dd",
   "metadata": {},
   "outputs": [],
   "source": []
  },
  {
   "cell_type": "code",
   "execution_count": null,
   "id": "e7440d24",
   "metadata": {},
   "outputs": [],
   "source": []
  },
  {
   "cell_type": "markdown",
   "id": "75ec5c92",
   "metadata": {},
   "source": [
    "# Restaurant Names"
   ]
  },
  {
   "cell_type": "code",
   "execution_count": 54,
   "id": "7dabe855",
   "metadata": {},
   "outputs": [
    {
     "data": {
      "text/plain": [
       "[<div class=\"_3h4gz\">Fish &amp; Fries</div>,\n",
       " <div class=\"_3h4gz\">Hyderabadi Biryani Express</div>,\n",
       " <div class=\"_3h4gz\">Kalyan bhel</div>]"
      ]
     },
     "execution_count": 54,
     "metadata": {},
     "output_type": "execute_result"
    }
   ],
   "source": [
    "all_restaurants = soup.find_all(\"div\",{\"class\":\"_3h4gz\"})\n",
    "all_restaurants"
   ]
  },
  {
   "cell_type": "code",
   "execution_count": 373,
   "id": "395d8bb4",
   "metadata": {},
   "outputs": [],
   "source": [
    "restaurant_names = []\n",
    "for i in all_restaurants:\n",
    "    restaurant_names.append(i.text)"
   ]
  },
  {
   "cell_type": "code",
   "execution_count": 374,
   "id": "0dd31dba",
   "metadata": {},
   "outputs": [
    {
     "data": {
      "text/plain": [
       "['Fish & Fries', 'Hyderabadi Biryani Express', 'Kalyan bhel']"
      ]
     },
     "execution_count": 374,
     "metadata": {},
     "output_type": "execute_result"
    }
   ],
   "source": [
    "restaurant_names"
   ]
  },
  {
   "cell_type": "markdown",
   "id": "aaac27d4",
   "metadata": {},
   "source": [
    "# Order Details"
   ]
  },
  {
   "cell_type": "code",
   "execution_count": 57,
   "id": "53b181b8",
   "metadata": {
    "scrolled": true
   },
   "outputs": [],
   "source": [
    "all_id = soup.find_all(\"div\",{\"class\":\"_299_I\"})"
   ]
  },
  {
   "cell_type": "code",
   "execution_count": 58,
   "id": "fd2efc5c",
   "metadata": {},
   "outputs": [
    {
     "data": {
      "text/plain": [
       "[<div class=\"_299_I\">ORDER #147723543118 | Sat, Oct 1, 2022, 11:49 PM</div>,\n",
       " <div class=\"_299_I\">ORDER #128685158512 | Wed, Feb 23, 2022, 03:22 PM</div>,\n",
       " <div class=\"_299_I\">ORDER #123082271350 | Mon, Dec 20, 2021, 07:01 PM</div>]"
      ]
     },
     "execution_count": 58,
     "metadata": {},
     "output_type": "execute_result"
    }
   ],
   "source": [
    "all_id"
   ]
  },
  {
   "cell_type": "code",
   "execution_count": 59,
   "id": "1e9621a5",
   "metadata": {},
   "outputs": [
    {
     "data": {
      "text/plain": [
       "['ORDER #147723543118 | Sat, Oct 1, 2022, 11:49 PM',\n",
       " 'ORDER #128685158512 | Wed, Feb 23, 2022, 03:22 PM',\n",
       " 'ORDER #123082271350 | Mon, Dec 20, 2021, 07:01 PM']"
      ]
     },
     "execution_count": 59,
     "metadata": {},
     "output_type": "execute_result"
    }
   ],
   "source": [
    "order_details = []\n",
    "for i in all_id:\n",
    "    order_details.append(i.text)\n",
    "order_details"
   ]
  },
  {
   "cell_type": "code",
   "execution_count": 60,
   "id": "8e36c88e",
   "metadata": {},
   "outputs": [
    {
     "data": {
      "text/plain": [
       "['#147723543118', '#128685158512', '#123082271350']"
      ]
     },
     "execution_count": 60,
     "metadata": {},
     "output_type": "execute_result"
    }
   ],
   "source": [
    "order_id = []\n",
    "for i in order_details:\n",
    "    order_id.append(i.split()[1])\n",
    "order_id"
   ]
  },
  {
   "cell_type": "code",
   "execution_count": 61,
   "id": "4853710a",
   "metadata": {},
   "outputs": [
    {
     "data": {
      "text/plain": [
       "[['Sat,', 'Oct', '1,', '2022,', '11:49', 'PM'],\n",
       " ['Wed,', 'Feb', '23,', '2022,', '03:22', 'PM'],\n",
       " ['Mon,', 'Dec', '20,', '2021,', '07:01', 'PM']]"
      ]
     },
     "execution_count": 61,
     "metadata": {},
     "output_type": "execute_result"
    }
   ],
   "source": [
    "ordered_on = []\n",
    "for i in order_details:\n",
    "    ordered_on.append(i.split()[3:9])\n",
    "ordered_on"
   ]
  },
  {
   "cell_type": "code",
   "execution_count": 62,
   "id": "b5c003aa",
   "metadata": {},
   "outputs": [
    {
     "data": {
      "text/plain": [
       "['Sat,', 'Wed,', 'Mon,']"
      ]
     },
     "execution_count": 62,
     "metadata": {},
     "output_type": "execute_result"
    }
   ],
   "source": [
    "order_day = []\n",
    "for i in order_details:\n",
    "    order_day.append(i.split()[3])\n",
    "order_day"
   ]
  },
  {
   "cell_type": "code",
   "execution_count": 63,
   "id": "ad62d982",
   "metadata": {},
   "outputs": [
    {
     "data": {
      "text/plain": [
       "['Oct', 'Feb', 'Dec']"
      ]
     },
     "execution_count": 63,
     "metadata": {},
     "output_type": "execute_result"
    }
   ],
   "source": [
    "order_month = []\n",
    "for i in order_details:\n",
    "    order_month.append(i.split()[4])\n",
    "order_month"
   ]
  },
  {
   "cell_type": "code",
   "execution_count": null,
   "id": "e37bdaa8",
   "metadata": {},
   "outputs": [],
   "source": []
  },
  {
   "cell_type": "code",
   "execution_count": 64,
   "id": "e7d21098",
   "metadata": {},
   "outputs": [
    {
     "data": {
      "text/plain": [
       "'23,'"
      ]
     },
     "execution_count": 64,
     "metadata": {},
     "output_type": "execute_result"
    }
   ],
   "source": [
    "order_date = []\n",
    "for i in order_details:\n",
    "    order_date.append(i.split()[5])\n",
    "order_date[1]"
   ]
  },
  {
   "cell_type": "code",
   "execution_count": 65,
   "id": "e41ce9d3",
   "metadata": {},
   "outputs": [
    {
     "data": {
      "text/plain": [
       "['2022,', '2022,', '2021,']"
      ]
     },
     "execution_count": 65,
     "metadata": {},
     "output_type": "execute_result"
    }
   ],
   "source": [
    "order_year = []\n",
    "for i in order_details:\n",
    "    order_year.append(i.strip().split()[6])\n",
    "order_year"
   ]
  },
  {
   "cell_type": "code",
   "execution_count": 66,
   "id": "dd3f2e6f",
   "metadata": {},
   "outputs": [
    {
     "data": {
      "text/plain": [
       "['11:49', '03:22', '07:01']"
      ]
     },
     "execution_count": 66,
     "metadata": {},
     "output_type": "execute_result"
    }
   ],
   "source": [
    "order_time = []\n",
    "for i in order_details:\n",
    "    order_time.append(i.split()[7])\n",
    "order_time"
   ]
  },
  {
   "cell_type": "code",
   "execution_count": 67,
   "id": "36eb7e61",
   "metadata": {},
   "outputs": [
    {
     "data": {
      "text/plain": [
       "['PM', 'PM', 'PM']"
      ]
     },
     "execution_count": 67,
     "metadata": {},
     "output_type": "execute_result"
    }
   ],
   "source": [
    "order_am_or_pm = []\n",
    "for i in order_details:\n",
    "    order_am_or_pm.append(i.split()[8])\n",
    "order_am_or_pm"
   ]
  },
  {
   "cell_type": "markdown",
   "id": "ba72cf69",
   "metadata": {},
   "source": [
    "# Delivery Details"
   ]
  },
  {
   "cell_type": "code",
   "execution_count": 68,
   "id": "55b0f948",
   "metadata": {},
   "outputs": [],
   "source": [
    "all_delivery = soup.find_all(\"div\",{\"class\":\"_2fkm7\"})"
   ]
  },
  {
   "cell_type": "code",
   "execution_count": 69,
   "id": "ade8c2db",
   "metadata": {},
   "outputs": [
    {
     "data": {
      "text/plain": [
       "[<div class=\"_2fkm7\"><span>Delivered on Sun, Oct 2, 2022, 12:17 AM<span class=\"h-Ntp icon-tickSharp\"></span></span></div>,\n",
       " <div class=\"_2fkm7\"><span>Delivered on Wed, Feb 23, 2022, 03:48 PM<span class=\"h-Ntp icon-tickSharp\"></span></span></div>,\n",
       " <div class=\"_2fkm7\"><span>Delivered on Mon, Dec 20, 2021, 07:47 PM<span class=\"h-Ntp icon-tickSharp\"></span></span></div>]"
      ]
     },
     "execution_count": 69,
     "metadata": {},
     "output_type": "execute_result"
    }
   ],
   "source": [
    "all_delivery"
   ]
  },
  {
   "cell_type": "code",
   "execution_count": 70,
   "id": "c48cebbd",
   "metadata": {},
   "outputs": [
    {
     "data": {
      "text/plain": [
       "'Delivered on Wed, Feb 23, 2022, 03:48 PM'"
      ]
     },
     "execution_count": 70,
     "metadata": {},
     "output_type": "execute_result"
    }
   ],
   "source": [
    "all_delivery[1].text"
   ]
  },
  {
   "cell_type": "code",
   "execution_count": 71,
   "id": "b90cb20e",
   "metadata": {},
   "outputs": [
    {
     "data": {
      "text/plain": [
       "['Delivered on Sun, Oct 2, 2022, 12:17 AM',\n",
       " 'Delivered on Wed, Feb 23, 2022, 03:48 PM',\n",
       " 'Delivered on Mon, Dec 20, 2021, 07:47 PM']"
      ]
     },
     "execution_count": 71,
     "metadata": {},
     "output_type": "execute_result"
    }
   ],
   "source": [
    "delivery_details = []\n",
    "for i in all_delivery:\n",
    "    delivery_details.append(i.text)\n",
    "delivery_details"
   ]
  },
  {
   "cell_type": "code",
   "execution_count": 72,
   "id": "67d66680",
   "metadata": {},
   "outputs": [
    {
     "data": {
      "text/plain": [
       "[['Sun,', 'Oct', '2,', '2022,', '12:17', 'AM'],\n",
       " ['Wed,', 'Feb', '23,', '2022,', '03:48', 'PM'],\n",
       " ['Mon,', 'Dec', '20,', '2021,', '07:47', 'PM']]"
      ]
     },
     "execution_count": 72,
     "metadata": {},
     "output_type": "execute_result"
    }
   ],
   "source": [
    "delivered_on = []\n",
    "for i in delivery_details:\n",
    "    delivered_on.append(i.split()[2:8])\n",
    "delivered_on"
   ]
  },
  {
   "cell_type": "code",
   "execution_count": null,
   "id": "53748d73",
   "metadata": {},
   "outputs": [],
   "source": []
  },
  {
   "cell_type": "code",
   "execution_count": 73,
   "id": "198e568a",
   "metadata": {},
   "outputs": [
    {
     "data": {
      "text/plain": [
       "['Sun,', 'Wed,', 'Mon,']"
      ]
     },
     "execution_count": 73,
     "metadata": {},
     "output_type": "execute_result"
    }
   ],
   "source": [
    "delivery_day = []\n",
    "for i in delivery_details:\n",
    "    delivery_day.append(i.split()[2])\n",
    "delivery_day"
   ]
  },
  {
   "cell_type": "code",
   "execution_count": 74,
   "id": "f98dff63",
   "metadata": {},
   "outputs": [
    {
     "data": {
      "text/plain": [
       "['Oct', 'Feb', 'Dec']"
      ]
     },
     "execution_count": 74,
     "metadata": {},
     "output_type": "execute_result"
    }
   ],
   "source": [
    "delivery_month = []\n",
    "for i in delivery_details:\n",
    "    delivery_month.append(i.split()[3])\n",
    "delivery_month"
   ]
  },
  {
   "cell_type": "code",
   "execution_count": 75,
   "id": "91848aaf",
   "metadata": {},
   "outputs": [
    {
     "data": {
      "text/plain": [
       "['2,', '23,', '20,']"
      ]
     },
     "execution_count": 75,
     "metadata": {},
     "output_type": "execute_result"
    }
   ],
   "source": [
    "delivery_date = []\n",
    "for i in delivery_details:\n",
    "    delivery_date.append(i.split()[4])\n",
    "delivery_date"
   ]
  },
  {
   "cell_type": "code",
   "execution_count": null,
   "id": "1b061793",
   "metadata": {},
   "outputs": [],
   "source": []
  },
  {
   "cell_type": "code",
   "execution_count": 76,
   "id": "43b12160",
   "metadata": {},
   "outputs": [
    {
     "data": {
      "text/plain": [
       "['2022,', '2022,', '2021,']"
      ]
     },
     "execution_count": 76,
     "metadata": {},
     "output_type": "execute_result"
    }
   ],
   "source": [
    "delivery_year = []\n",
    "for i in delivery_details:\n",
    "    delivery_year.append(i.split()[5])\n",
    "delivery_year"
   ]
  },
  {
   "cell_type": "code",
   "execution_count": 77,
   "id": "bb9f519d",
   "metadata": {},
   "outputs": [
    {
     "data": {
      "text/plain": [
       "['12:17', '03:48', '07:47']"
      ]
     },
     "execution_count": 77,
     "metadata": {},
     "output_type": "execute_result"
    }
   ],
   "source": [
    "delivery_time = []\n",
    "for i in delivery_details:\n",
    "    delivery_time.append(i.split()[6])\n",
    "delivery_time"
   ]
  },
  {
   "cell_type": "code",
   "execution_count": 78,
   "id": "5d6e6872",
   "metadata": {},
   "outputs": [
    {
     "data": {
      "text/plain": [
       "['AM', 'PM', 'PM']"
      ]
     },
     "execution_count": 78,
     "metadata": {},
     "output_type": "execute_result"
    }
   ],
   "source": [
    "delivery_am_pm = []\n",
    "for i in delivery_details:\n",
    "    delivery_am_pm.append(i.split()[7])\n",
    "delivery_am_pm"
   ]
  },
  {
   "cell_type": "code",
   "execution_count": null,
   "id": "3ff39840",
   "metadata": {},
   "outputs": [],
   "source": []
  },
  {
   "cell_type": "markdown",
   "id": "138e96e3",
   "metadata": {},
   "source": [
    "# Not yet Colmpleted"
   ]
  },
  {
   "cell_type": "markdown",
   "id": "d132d795",
   "metadata": {},
   "source": [
    "# Order Details"
   ]
  },
  {
   "cell_type": "code",
   "execution_count": 79,
   "id": "cb136ca9",
   "metadata": {},
   "outputs": [],
   "source": [
    "all_dishes = soup.find_all(\"div\",{\"class\":\"_33I3_\"})"
   ]
  },
  {
   "cell_type": "code",
   "execution_count": 80,
   "id": "32667b83",
   "metadata": {},
   "outputs": [
    {
     "data": {
      "text/plain": [
       "[<div class=\"_33I3_\">Tawa Catla Fish Fry (2 Pcs) x 1, Tawa/shallow - Mackerel [bangada] Fish Fry - 1pc x 1</div>,\n",
       " <div class=\"_33I3_\">Hyderabadi Chicken Dum Biryani x 1</div>,\n",
       " <div class=\"_33I3_\">Special Bhel x 1, Matki Bhel x 1, Dahi Ragdapuri x 1</div>]"
      ]
     },
     "execution_count": 80,
     "metadata": {},
     "output_type": "execute_result"
    }
   ],
   "source": [
    "all_dishes"
   ]
  },
  {
   "cell_type": "code",
   "execution_count": 81,
   "id": "ee42580e",
   "metadata": {},
   "outputs": [
    {
     "data": {
      "text/plain": [
       "'Hyderabadi Chicken Dum Biryani x 1'"
      ]
     },
     "execution_count": 81,
     "metadata": {},
     "output_type": "execute_result"
    }
   ],
   "source": [
    "all_dishes[1].text"
   ]
  },
  {
   "cell_type": "code",
   "execution_count": 82,
   "id": "cbf1df29",
   "metadata": {},
   "outputs": [
    {
     "data": {
      "text/plain": [
       "['Tawa Catla Fish Fry (2 Pcs) x 1, Tawa/shallow - Mackerel [bangada] Fish Fry - 1pc x 1',\n",
       " 'Hyderabadi Chicken Dum Biryani x 1',\n",
       " 'Special Bhel x 1, Matki Bhel x 1, Dahi Ragdapuri x 1']"
      ]
     },
     "execution_count": 82,
     "metadata": {},
     "output_type": "execute_result"
    }
   ],
   "source": [
    "dishes_details = []\n",
    "for i in all_dishes:\n",
    "    dishes_details.append(i.text)\n",
    "dishes_details"
   ]
  },
  {
   "cell_type": "code",
   "execution_count": 83,
   "id": "a716cd9d",
   "metadata": {},
   "outputs": [
    {
     "data": {
      "text/plain": [
       "['Tawa', 'Hyderabadi', 'Special']"
      ]
     },
     "execution_count": 83,
     "metadata": {},
     "output_type": "execute_result"
    }
   ],
   "source": [
    "dish_name = []\n",
    "for i in dishes_details:\n",
    "    dish_name.append(i.split()[0])\n",
    "dish_name"
   ]
  },
  {
   "cell_type": "code",
   "execution_count": 84,
   "id": "c87cf4a7",
   "metadata": {},
   "outputs": [
    {
     "data": {
      "text/plain": [
       "['Tawa Catla Fish Fry (2 Pcs) x 1, Tawa/shallow - Mackerel [bangada] Fish Fry - 1pc x 1',\n",
       " 'Hyderabadi Chicken Dum Biryani x 1',\n",
       " 'Special Bhel x 1, Matki Bhel x 1, Dahi Ragdapuri x 1']"
      ]
     },
     "execution_count": 84,
     "metadata": {},
     "output_type": "execute_result"
    }
   ],
   "source": [
    "dishes_details"
   ]
  },
  {
   "cell_type": "code",
   "execution_count": null,
   "id": "ed11d461",
   "metadata": {},
   "outputs": [],
   "source": []
  },
  {
   "cell_type": "code",
   "execution_count": null,
   "id": "b7b92c75",
   "metadata": {},
   "outputs": [],
   "source": []
  },
  {
   "cell_type": "markdown",
   "id": "8dff11bc",
   "metadata": {},
   "source": [
    "# Payment Details"
   ]
  },
  {
   "cell_type": "code",
   "execution_count": 85,
   "id": "a65e0ca9",
   "metadata": {},
   "outputs": [],
   "source": [
    "all_paid = soup.find_all(\"span\",{\"class\":\"_1jGfr\"})"
   ]
  },
  {
   "cell_type": "code",
   "execution_count": 86,
   "id": "92335aea",
   "metadata": {},
   "outputs": [
    {
     "data": {
      "text/plain": [
       "[<span class=\"_1jGfr\"> 269 </span>,\n",
       " <span class=\"_1jGfr\"> 189 </span>,\n",
       " <span class=\"_1jGfr\"> 182 </span>]"
      ]
     },
     "execution_count": 86,
     "metadata": {},
     "output_type": "execute_result"
    }
   ],
   "source": [
    "all_paid"
   ]
  },
  {
   "cell_type": "code",
   "execution_count": 87,
   "id": "27549725",
   "metadata": {},
   "outputs": [
    {
     "data": {
      "text/plain": [
       "['269', '189', '182']"
      ]
     },
     "execution_count": 87,
     "metadata": {},
     "output_type": "execute_result"
    }
   ],
   "source": [
    "amount_details = []\n",
    "for i in all_paid:\n",
    "    amount_details.append(i.text.strip())\n",
    "amount_details"
   ]
  },
  {
   "cell_type": "code",
   "execution_count": null,
   "id": "d11671e8",
   "metadata": {},
   "outputs": [],
   "source": []
  },
  {
   "cell_type": "markdown",
   "id": "b0710ecf",
   "metadata": {},
   "source": [
    "# Restaurant Address"
   ]
  },
  {
   "cell_type": "code",
   "execution_count": 88,
   "id": "b312cd4a",
   "metadata": {},
   "outputs": [],
   "source": [
    "all_address_restaurant = soup.find_all(\"div\",{\"class\":\"_2haEe\"})"
   ]
  },
  {
   "cell_type": "code",
   "execution_count": 89,
   "id": "5a15af13",
   "metadata": {},
   "outputs": [
    {
     "data": {
      "text/plain": [
       "[<div class=\"_2haEe\">Hsr Layout</div>,\n",
       " <div class=\"_2haEe\">Karve Nagar</div>,\n",
       " <div class=\"_2haEe\">Katraj</div>]"
      ]
     },
     "execution_count": 89,
     "metadata": {},
     "output_type": "execute_result"
    }
   ],
   "source": [
    "all_address_restaurant"
   ]
  },
  {
   "cell_type": "code",
   "execution_count": 314,
   "id": "191e426e",
   "metadata": {},
   "outputs": [
    {
     "data": {
      "text/plain": [
       "['Hsr Layout', 'Karve Nagar', 'Katraj']"
      ]
     },
     "execution_count": 314,
     "metadata": {},
     "output_type": "execute_result"
    }
   ],
   "source": [
    "restaurant_address = []\n",
    "for i in all_address_restaurant:\n",
    "    restaurant_address.append(i.text)\n",
    "restaurant_address"
   ]
  },
  {
   "cell_type": "code",
   "execution_count": 91,
   "id": "7596de96",
   "metadata": {
    "scrolled": false
   },
   "outputs": [
    {
     "name": "stdout",
     "output_type": "stream",
     "text": [
      "Hsr Layout\n",
      "Karve Nagar\n",
      "Katraj\n"
     ]
    }
   ],
   "source": [
    "for i in restaurant_address:\n",
    "    print(i)"
   ]
  },
  {
   "cell_type": "code",
   "execution_count": 92,
   "id": "4f5de58b",
   "metadata": {},
   "outputs": [
    {
     "name": "stdout",
     "output_type": "stream",
     "text": [
      "Hyderabadi Biryani Express\n",
      "Karve Nagar\n"
     ]
    }
   ],
   "source": [
    "restaurant_names\n",
    "print(restaurant_names[1])\n",
    "\n",
    "print(restaurant_address[1])"
   ]
  },
  {
   "cell_type": "code",
   "execution_count": 181,
   "id": "1c12d6ee",
   "metadata": {},
   "outputs": [
    {
     "name": "stdout",
     "output_type": "stream",
     "text": [
      "None\n"
     ]
    }
   ],
   "source": [
    "import mysql.connector as conn\n",
    "\n",
    "mydb = conn.connect(host = \"localhost\" , user =\"root\" , passwd = \"8067\" )\n",
    "cursor = mydb.cursor(buffered=True)\n",
    "cursor.execute(\"create database if not exists swiggy\")\n",
    "\n",
    "s = \"create table if not exists swiggy.orders(Restaurant_Names varchar(40) , Restaurant_Address varchar(40),Order_Id varchar(13), Ordered_On TIMESTAMP, Delivered_On TIMESTAMP, Ordered_Menu varchar(40), Total_Bill int(5))\"\n",
    "q1 = cursor.execute(s)\n",
    "\n",
    "q2 = cursor.execute(\"select * from swiggy.orders\")\n",
    "\n",
    "print(q2)"
   ]
  },
  {
   "cell_type": "code",
   "execution_count": 195,
   "id": "5e70a7ec",
   "metadata": {},
   "outputs": [
    {
     "name": "stdout",
     "output_type": "stream",
     "text": [
      "None\n",
      "None\n"
     ]
    }
   ],
   "source": [
    "# x = ['Restaurant_Names', 'Restaurant_Address', 'Order_Id', 'Ordered_On', 'Delivered_On', 'Ordered_Menu', 'Total_Bill']\n",
    "# y = [restaurant_names,restaurant_address,order_id,order_on,delivered_on,dishes_details,amount_details]\n",
    "\n",
    "\n",
    "qry = \"insert into swiggy.orders values('adcfdcadc', 'Address', 321, '2022-01-01 01:00:00', '2022-02-02 02:02:02', 'Test orders', 321);\"\n",
    "q3 = cursor.execute(\"insert into swiggy.orders values('adcfdcadc', 'Address', 321, '2022-01-01 01:00:00', '2022-02-02 02:02:02', 'Test orders', 321);\")\n",
    "print(q2)\n",
    "mydb.commit()\n",
    "print(q2)"
   ]
  },
  {
   "cell_type": "code",
   "execution_count": 327,
   "id": "84cb200a",
   "metadata": {},
   "outputs": [
    {
     "data": {
      "text/plain": [
       "[(['Fish & Fries', 'Hyderabadi Biryani Express', 'Kalyan bhel'],),\n",
       " ('Hsr Layout', 'Karve Nagar', 'Katraj'),\n",
       " ('#147723543118', '#128685158512', '#123082271350'),\n",
       " (['Sat,', 'Oct', '1,', '2022,', '11:49', 'PM'],\n",
       "  ['Wed,', 'Feb', '23,', '2022,', '03:22', 'PM'],\n",
       "  ['Mon,', 'Dec', '20,', '2021,', '07:01', 'PM']),\n",
       " (['Sun,', 'Oct', '2,', '2022,', '12:17', 'AM'],\n",
       "  ['Wed,', 'Feb', '23,', '2022,', '03:48', 'PM'],\n",
       "  ['Mon,', 'Dec', '20,', '2021,', '07:47', 'PM']),\n",
       " ('Tawa Catla Fish Fry (2 Pcs) x 1, Tawa/shallow - Mackerel [bangada] Fish Fry - 1pc x 1',\n",
       "  'Hyderabadi Chicken Dum Biryani x 1',\n",
       "  'Special Bhel x 1, Matki Bhel x 1, Dahi Ragdapuri x 1'),\n",
       " ('269', '189', '182')]"
      ]
     },
     "execution_count": 327,
     "metadata": {},
     "output_type": "execute_result"
    }
   ],
   "source": [
    "dict = {'Restaurant_Names':restaurant_names, 'Restaurant_Address':restaurant_address,'Order_Id': order_id, 'Order_Day':order_day,\n",
    "       'Order_Date':order_date, 'Order_Month':order_month, 'Order_Year':order_year,'Order_Time':order_time,\n",
    "        'Order_AM_PM':order_am_or_pm,'Delivery_Day':delivery_day,'Delivery_Date':delivery_date,'Delivery_Month':delivery_month,\n",
    "        'Delivery_Year':delivery_year,'Delivery_Time':delivery_time,'Delivery_AM_PM':delivery_am_pm,\n",
    "        'Ordered_Menu':dishes_details,'Total_Bill':amount_details\n",
    "       }\n",
    "dict\n",
    "\n",
    "dict1 = {'Restaurant_Names':restaurant_names, 'Restaurant_Address':restaurant_address,'Order_Id':order_id, 'Ordered_On':ordered_on,\n",
    "        'delivered_On':delivered_on,'Ordered_Menu':dishes_details,'Total_Bill':amount_details\n",
    "       }\n",
    "dict1\n",
    "\n",
    "arr = [tuple(restaurant_names), tuple(restaurant_address), tuple(order_id), tuple(ordered_on),\n",
    "        tuple(delivered_on), tuple(dishes_details), tuple(amount_details)]\n",
    "arr\n"
   ]
  },
  {
   "cell_type": "code",
   "execution_count": null,
   "id": "e46e329b",
   "metadata": {},
   "outputs": [],
   "source": []
  },
  {
   "cell_type": "code",
   "execution_count": null,
   "id": "ebaf327a",
   "metadata": {},
   "outputs": [],
   "source": []
  },
  {
   "cell_type": "code",
   "execution_count": 326,
   "id": "29d9fa64",
   "metadata": {},
   "outputs": [
    {
     "data": {
      "text/plain": [
       "('Fish & Fries', 'Hyderabadi Biryani Express', 'Kalyan bhel')"
      ]
     },
     "execution_count": 326,
     "metadata": {},
     "output_type": "execute_result"
    }
   ],
   "source": [
    "x"
   ]
  },
  {
   "cell_type": "code",
   "execution_count": 135,
   "id": "f85bed58",
   "metadata": {
    "scrolled": true
   },
   "outputs": [
    {
     "data": {
      "text/plain": [
       "[['Fish & Fries', 'Hyderabadi Biryani Express', 'Kalyan bhel'],\n",
       " ['Hsr Layout', 'Karve Nagar', 'Katraj'],\n",
       " ['#147723543118', '#128685158512', '#123082271350'],\n",
       " ['#147723543118', '#128685158512', '#123082271350'],\n",
       " [['Sun,', 'Oct', '2,', '2022,', '12:17', 'AM'],\n",
       "  ['Wed,', 'Feb', '23,', '2022,', '03:48', 'PM'],\n",
       "  ['Mon,', 'Dec', '20,', '2021,', '07:47', 'PM']],\n",
       " ['Tawa Catla Fish Fry (2 Pcs) x 1, Tawa/shallow - Mackerel [bangada] Fish Fry - 1pc x 1',\n",
       "  'Hyderabadi Chicken Dum Biryani x 1',\n",
       "  'Special Bhel x 1, Matki Bhel x 1, Dahi Ragdapuri x 1'],\n",
       " ['269', '189', '182']]"
      ]
     },
     "execution_count": 135,
     "metadata": {},
     "output_type": "execute_result"
    }
   ],
   "source": [
    "y"
   ]
  },
  {
   "cell_type": "code",
   "execution_count": null,
   "id": "b2212e5f",
   "metadata": {},
   "outputs": [],
   "source": []
  },
  {
   "cell_type": "code",
   "execution_count": null,
   "id": "9dc73ba2",
   "metadata": {},
   "outputs": [],
   "source": []
  },
  {
   "cell_type": "code",
   "execution_count": null,
   "id": "e556793d",
   "metadata": {},
   "outputs": [],
   "source": []
  },
  {
   "cell_type": "code",
   "execution_count": 328,
   "id": "baa5d898",
   "metadata": {},
   "outputs": [
    {
     "data": {
      "text/plain": [
       "[(['Fish & Fries', 'Hyderabadi Biryani Express', 'Kalyan bhel'],),\n",
       " ('Hsr Layout', 'Karve Nagar', 'Katraj'),\n",
       " ('#147723543118', '#128685158512', '#123082271350'),\n",
       " (['Sat,', 'Oct', '1,', '2022,', '11:49', 'PM'],\n",
       "  ['Wed,', 'Feb', '23,', '2022,', '03:22', 'PM'],\n",
       "  ['Mon,', 'Dec', '20,', '2021,', '07:01', 'PM']),\n",
       " (['Sun,', 'Oct', '2,', '2022,', '12:17', 'AM'],\n",
       "  ['Wed,', 'Feb', '23,', '2022,', '03:48', 'PM'],\n",
       "  ['Mon,', 'Dec', '20,', '2021,', '07:47', 'PM']),\n",
       " ('Tawa Catla Fish Fry (2 Pcs) x 1, Tawa/shallow - Mackerel [bangada] Fish Fry - 1pc x 1',\n",
       "  'Hyderabadi Chicken Dum Biryani x 1',\n",
       "  'Special Bhel x 1, Matki Bhel x 1, Dahi Ragdapuri x 1'),\n",
       " ('269', '189', '182')]"
      ]
     },
     "execution_count": 328,
     "metadata": {},
     "output_type": "execute_result"
    }
   ],
   "source": [
    "arr"
   ]
  },
  {
   "cell_type": "code",
   "execution_count": 140,
   "id": "02d7142d",
   "metadata": {},
   "outputs": [
    {
     "data": {
      "text/plain": [
       "'Restaurant_Address'"
      ]
     },
     "execution_count": 140,
     "metadata": {},
     "output_type": "execute_result"
    }
   ],
   "source": [
    "q3 = cursor.execute(\"insert into swiggy.orders values('adcfdcadc', 'Address', 321, '2022-01-01 01:00:00', '2022-02-02 02:02:02', 'Test orders', 321);\")\n",
    "print(q2)\n",
    "mydb.commit()"
   ]
  },
  {
   "cell_type": "code",
   "execution_count": 329,
   "id": "35c36d81",
   "metadata": {},
   "outputs": [],
   "source": [
    "mike_placeholders=\"INSERT INTO swiggy.orders VALUES (%s,%s,%s,%s,%s,%s,%s) \""
   ]
  },
  {
   "cell_type": "code",
   "execution_count": 345,
   "id": "139eaea4",
   "metadata": {},
   "outputs": [
    {
     "data": {
      "text/plain": [
       "['tuple(restaurant_names)',\n",
       " 'tuple(restaurant_address)',\n",
       " ['#147723543118', '#128685158512', '#123082271350'],\n",
       " [['Sat,', 'Oct', '1,', '2022,', '11:49', 'PM'],\n",
       "  ['Wed,', 'Feb', '23,', '2022,', '03:22', 'PM'],\n",
       "  ['Mon,', 'Dec', '20,', '2021,', '07:01', 'PM']],\n",
       " [['Sun,', 'Oct', '2,', '2022,', '12:17', 'AM'],\n",
       "  ['Wed,', 'Feb', '23,', '2022,', '03:48', 'PM'],\n",
       "  ['Mon,', 'Dec', '20,', '2021,', '07:47', 'PM']],\n",
       " ['Tawa Catla Fish Fry (2 Pcs) x 1, Tawa/shallow - Mackerel [bangada] Fish Fry - 1pc x 1',\n",
       "  'Hyderabadi Chicken Dum Biryani x 1',\n",
       "  'Special Bhel x 1, Matki Bhel x 1, Dahi Ragdapuri x 1'],\n",
       " ['269', '189', '182']]"
      ]
     },
     "execution_count": 345,
     "metadata": {},
     "output_type": "execute_result"
    }
   ],
   "source": [
    "arr"
   ]
  },
  {
   "cell_type": "code",
   "execution_count": 398,
   "id": "bfdd1b53",
   "metadata": {},
   "outputs": [
    {
     "data": {
      "text/plain": [
       "[('Fish & Fries',), ('Hyderabadi Biryani Express',), ('Kalyan bhel',)]"
      ]
     },
     "execution_count": 398,
     "metadata": {},
     "output_type": "execute_result"
    }
   ],
   "source": [
    "arr1 = []\n",
    "#arr = [tuple(restaurant_names), tuple(restaurant_address), tuple(order_id), ordered_on,delivered_on, dishes_details, amount_details]\n",
    "for i in range(len(restaurant_names)):\n",
    "    arr1.append(\n",
    "        tuple(\n",
    "            [restaurant_names[i]]\n",
    "        )\n",
    "    )\n",
    "\n",
    "arr1\n",
    "    #arr1 = [tuple(restaurant_names), tuple(restaurant_address), tuple(order_id), ordered_on,delivered_on, dishes_details, amount_details]\n",
    "    #arr1\n",
    "#result = cursor.executemany(mike_placeholders, arr1)\n",
    "#mydb.commit()"
   ]
  },
  {
   "cell_type": "code",
   "execution_count": 402,
   "id": "c9ef8b9c",
   "metadata": {},
   "outputs": [
    {
     "ename": "AttributeError",
     "evalue": "'tuple' object has no attribute 'join'",
     "output_type": "error",
     "traceback": [
      "\u001b[1;31m---------------------------------------------------------------------------\u001b[0m",
      "\u001b[1;31mAttributeError\u001b[0m                            Traceback (most recent call last)",
      "\u001b[1;32m<ipython-input-402-dde32f6a1eaa>\u001b[0m in \u001b[0;36m<module>\u001b[1;34m\u001b[0m\n\u001b[1;32m----> 1\u001b[1;33m \u001b[0marr1\u001b[0m\u001b[1;33m[\u001b[0m\u001b[1;36m0\u001b[0m\u001b[1;33m]\u001b[0m\u001b[1;33m.\u001b[0m\u001b[0mjoin\u001b[0m\u001b[1;33m(\u001b[0m\u001b[1;34m'f'\u001b[0m\u001b[1;33m)\u001b[0m\u001b[1;33m\u001b[0m\u001b[1;33m\u001b[0m\u001b[0m\n\u001b[0m",
      "\u001b[1;31mAttributeError\u001b[0m: 'tuple' object has no attribute 'join'"
     ]
    }
   ],
   "source": [
    "\n"
   ]
  },
  {
   "cell_type": "code",
   "execution_count": null,
   "id": "6a89a883",
   "metadata": {},
   "outputs": [],
   "source": [
    "resta"
   ]
  },
  {
   "cell_type": "code",
   "execution_count": 292,
   "id": "1d74f991",
   "metadata": {},
   "outputs": [
    {
     "name": "stdout",
     "output_type": "stream",
     "text": [
      "('Hsr Layout',)\n",
      "('Karve Nagar',)\n",
      "('Katraj',)\n"
     ]
    }
   ],
   "source": [
    "for i in range(len(restaurant_names)):\n",
    "    print(tuple([restaurant_address[i]],))"
   ]
  },
  {
   "cell_type": "code",
   "execution_count": 550,
   "id": "1e501a6b",
   "metadata": {
    "scrolled": true
   },
   "outputs": [
    {
     "ename": "MySQLInterfaceError",
     "evalue": "Python type list cannot be converted",
     "output_type": "error",
     "traceback": [
      "\u001b[1;31m---------------------------------------------------------------------------\u001b[0m",
      "\u001b[1;31mMySQLInterfaceError\u001b[0m                       Traceback (most recent call last)",
      "\u001b[1;32m<ipython-input-550-ad4e838e9099>\u001b[0m in \u001b[0;36m<module>\u001b[1;34m\u001b[0m\n\u001b[0;32m      2\u001b[0m \u001b[1;33m\u001b[0m\u001b[0m\n\u001b[0;32m      3\u001b[0m \u001b[1;32mfor\u001b[0m \u001b[0mi\u001b[0m \u001b[1;32min\u001b[0m \u001b[0mrange\u001b[0m\u001b[1;33m(\u001b[0m\u001b[0mlen\u001b[0m\u001b[1;33m(\u001b[0m\u001b[0ml\u001b[0m\u001b[1;33m)\u001b[0m\u001b[1;33m)\u001b[0m\u001b[1;33m:\u001b[0m\u001b[1;33m\u001b[0m\u001b[1;33m\u001b[0m\u001b[0m\n\u001b[1;32m----> 4\u001b[1;33m     \u001b[0mq3\u001b[0m \u001b[1;33m=\u001b[0m \u001b[0mcursor\u001b[0m\u001b[1;33m.\u001b[0m\u001b[0mexecute\u001b[0m\u001b[1;33m(\u001b[0m\u001b[1;34m\"insert into swiggy.orders values(%s);\"\u001b[0m\u001b[1;33m,\u001b[0m\u001b[1;33m(\u001b[0m\u001b[0ml\u001b[0m\u001b[1;33m[\u001b[0m\u001b[0mi\u001b[0m\u001b[1;33m]\u001b[0m\u001b[1;33m)\u001b[0m\u001b[1;33m)\u001b[0m\u001b[1;33m\u001b[0m\u001b[1;33m\u001b[0m\u001b[0m\n\u001b[0m\u001b[0;32m      5\u001b[0m \u001b[1;31m#cursor.execute(\"INSERT INTO table VALUES (%s, %s, %s)\", (var1, var2, var3))\u001b[0m\u001b[1;33m\u001b[0m\u001b[1;33m\u001b[0m\u001b[1;33m\u001b[0m\u001b[0m\n\u001b[0;32m      6\u001b[0m    \u001b[1;31m# cursor.execute(qry)\u001b[0m\u001b[1;33m\u001b[0m\u001b[1;33m\u001b[0m\u001b[1;33m\u001b[0m\u001b[0m\n",
      "\u001b[1;32m~\\anaconda3\\lib\\site-packages\\mysql\\connector\\cursor_cext.py\u001b[0m in \u001b[0;36mexecute\u001b[1;34m(self, operation, params, multi)\u001b[0m\n\u001b[0;32m    255\u001b[0m \u001b[1;33m\u001b[0m\u001b[0m\n\u001b[0;32m    256\u001b[0m         \u001b[1;32mif\u001b[0m \u001b[0mparams\u001b[0m\u001b[1;33m:\u001b[0m\u001b[1;33m\u001b[0m\u001b[1;33m\u001b[0m\u001b[0m\n\u001b[1;32m--> 257\u001b[1;33m             \u001b[0mprepared\u001b[0m \u001b[1;33m=\u001b[0m \u001b[0mself\u001b[0m\u001b[1;33m.\u001b[0m\u001b[0m_cnx\u001b[0m\u001b[1;33m.\u001b[0m\u001b[0mprepare_for_mysql\u001b[0m\u001b[1;33m(\u001b[0m\u001b[0mparams\u001b[0m\u001b[1;33m)\u001b[0m\u001b[1;33m\u001b[0m\u001b[1;33m\u001b[0m\u001b[0m\n\u001b[0m\u001b[0;32m    258\u001b[0m             \u001b[1;32mif\u001b[0m \u001b[0misinstance\u001b[0m\u001b[1;33m(\u001b[0m\u001b[0mprepared\u001b[0m\u001b[1;33m,\u001b[0m \u001b[0mdict\u001b[0m\u001b[1;33m)\u001b[0m\u001b[1;33m:\u001b[0m\u001b[1;33m\u001b[0m\u001b[1;33m\u001b[0m\u001b[0m\n\u001b[0;32m    259\u001b[0m                 \u001b[1;32mfor\u001b[0m \u001b[0mkey\u001b[0m\u001b[1;33m,\u001b[0m \u001b[0mvalue\u001b[0m \u001b[1;32min\u001b[0m \u001b[0mprepared\u001b[0m\u001b[1;33m.\u001b[0m\u001b[0mitems\u001b[0m\u001b[1;33m(\u001b[0m\u001b[1;33m)\u001b[0m\u001b[1;33m:\u001b[0m\u001b[1;33m\u001b[0m\u001b[1;33m\u001b[0m\u001b[0m\n",
      "\u001b[1;32m~\\anaconda3\\lib\\site-packages\\mysql\\connector\\connection_cext.py\u001b[0m in \u001b[0;36mprepare_for_mysql\u001b[1;34m(self, params)\u001b[0m\n\u001b[0;32m    682\u001b[0m                 ]\n\u001b[0;32m    683\u001b[0m             \u001b[1;32melse\u001b[0m\u001b[1;33m:\u001b[0m\u001b[1;33m\u001b[0m\u001b[1;33m\u001b[0m\u001b[0m\n\u001b[1;32m--> 684\u001b[1;33m                 \u001b[0mresult\u001b[0m \u001b[1;33m=\u001b[0m \u001b[0mself\u001b[0m\u001b[1;33m.\u001b[0m\u001b[0m_cmysql\u001b[0m\u001b[1;33m.\u001b[0m\u001b[0mconvert_to_mysql\u001b[0m\u001b[1;33m(\u001b[0m\u001b[1;33m*\u001b[0m\u001b[0mparams\u001b[0m\u001b[1;33m)\u001b[0m\u001b[1;33m\u001b[0m\u001b[1;33m\u001b[0m\u001b[0m\n\u001b[0m\u001b[0;32m    685\u001b[0m         \u001b[1;32melif\u001b[0m \u001b[0misinstance\u001b[0m\u001b[1;33m(\u001b[0m\u001b[0mparams\u001b[0m\u001b[1;33m,\u001b[0m \u001b[0mdict\u001b[0m\u001b[1;33m)\u001b[0m\u001b[1;33m:\u001b[0m\u001b[1;33m\u001b[0m\u001b[1;33m\u001b[0m\u001b[0m\n\u001b[0;32m    686\u001b[0m             \u001b[0mresult\u001b[0m \u001b[1;33m=\u001b[0m \u001b[1;33m{\u001b[0m\u001b[1;33m}\u001b[0m\u001b[1;33m\u001b[0m\u001b[1;33m\u001b[0m\u001b[0m\n",
      "\u001b[1;31mMySQLInterfaceError\u001b[0m: Python type list cannot be converted"
     ]
    }
   ],
   "source": [
    "#q3 = cursor.execute(\"insert into swiggy.orders values('adcfdcadc', 'Address', 321, '2022-01-01 01:00:00', '2022-02-02 02:02:02', 'Test orders', 321);\")\n",
    "\n",
    "for i in range(len(l)):\n",
    "    q3 = cursor.execute(\"insert into swiggy.orders values(%s);\",(l[i]))\n",
    "    cursor.execute(\"INSERT INTO table VALUES (%s, %s, %s)\", (var1, var2, var3))\n",
    "   # cursor.execute(qry)\n",
    "    mydb.commit();\n",
    "    \n",
    "    \n",
    "#     print(restaurant_names[i])\n",
    "#     print(restaurant_address[i])\n",
    "#     print(restaurant_names[i])\n",
    "#     print(restaurant_address[i])\n",
    "#     print(order_id[i])\n",
    "#     print(order_id[i])\n",
    "#     print(delivered_on[i])\n",
    "#     print(dishes_details[i])\n",
    "#     print(amount_details[i])\n",
    "    \n"
   ]
  },
  {
   "cell_type": "code",
   "execution_count": 404,
   "id": "83fe2a98",
   "metadata": {},
   "outputs": [
    {
     "name": "stdout",
     "output_type": "stream",
     "text": [
      "['Fish & Fries', 'Hyderabadi Biryani Express', 'Kalyan bhel']\n"
     ]
    }
   ],
   "source": [
    "\n",
    "    "
   ]
  },
  {
   "cell_type": "code",
   "execution_count": null,
   "id": "80944bf5",
   "metadata": {},
   "outputs": [],
   "source": []
  },
  {
   "cell_type": "code",
   "execution_count": null,
   "id": "6f3c507e",
   "metadata": {},
   "outputs": [],
   "source": []
  },
  {
   "cell_type": "code",
   "execution_count": null,
   "id": "6f9cb20c",
   "metadata": {},
   "outputs": [],
   "source": []
  },
  {
   "cell_type": "code",
   "execution_count": null,
   "id": "2b67f5f3",
   "metadata": {},
   "outputs": [],
   "source": []
  },
  {
   "cell_type": "code",
   "execution_count": 200,
   "id": "35d55344",
   "metadata": {},
   "outputs": [
    {
     "ename": "ProgrammingError",
     "evalue": "1064 (42000): You have an error in your SQL syntax; check the manual that corresponds to your MySQL server version for the right syntax to use near '%s)' at line 1",
     "output_type": "error",
     "traceback": [
      "\u001b[1;31m---------------------------------------------------------------------------\u001b[0m",
      "\u001b[1;31mMySQLInterfaceError\u001b[0m                       Traceback (most recent call last)",
      "\u001b[1;32m~\\anaconda3\\lib\\site-packages\\mysql\\connector\\connection_cext.py\u001b[0m in \u001b[0;36mcmd_query\u001b[1;34m(self, query, raw, buffered, raw_as_string)\u001b[0m\n\u001b[0;32m    537\u001b[0m                                \u001b[0mraw_as_string\u001b[0m\u001b[1;33m=\u001b[0m\u001b[0mraw_as_string\u001b[0m\u001b[1;33m,\u001b[0m\u001b[1;33m\u001b[0m\u001b[1;33m\u001b[0m\u001b[0m\n\u001b[1;32m--> 538\u001b[1;33m                                query_attrs=self._query_attrs)\n\u001b[0m\u001b[0;32m    539\u001b[0m         \u001b[1;32mexcept\u001b[0m \u001b[0mMySQLInterfaceError\u001b[0m \u001b[1;32mas\u001b[0m \u001b[0mexc\u001b[0m\u001b[1;33m:\u001b[0m\u001b[1;33m\u001b[0m\u001b[1;33m\u001b[0m\u001b[0m\n",
      "\u001b[1;31mMySQLInterfaceError\u001b[0m: You have an error in your SQL syntax; check the manual that corresponds to your MySQL server version for the right syntax to use near '%s)' at line 1",
      "\nDuring handling of the above exception, another exception occurred:\n",
      "\u001b[1;31mProgrammingError\u001b[0m                          Traceback (most recent call last)",
      "\u001b[1;32m<ipython-input-200-82c849615e5d>\u001b[0m in \u001b[0;36m<module>\u001b[1;34m\u001b[0m\n\u001b[1;32m----> 1\u001b[1;33m \u001b[0ms1\u001b[0m \u001b[1;33m=\u001b[0m \u001b[0mcursor\u001b[0m\u001b[1;33m.\u001b[0m\u001b[0mexecute\u001b[0m\u001b[1;33m(\u001b[0m\u001b[1;34m\"insert into swiggy.orders values( %s)\"\u001b[0m\u001b[1;33m.\u001b[0m\u001b[0mformat\u001b[0m\u001b[1;33m(\u001b[0m\u001b[0mrestaurant_names\u001b[0m\u001b[1;33m,\u001b[0m\u001b[0mrestaurant_address\u001b[0m\u001b[1;33m,\u001b[0m\u001b[0morder_id\u001b[0m\u001b[1;33m,\u001b[0m\u001b[0mordered_on\u001b[0m\u001b[1;33m,\u001b[0m\u001b[0mdelivered_on\u001b[0m\u001b[1;33m,\u001b[0m\u001b[0mordered_menu\u001b[0m\u001b[1;33m,\u001b[0m\u001b[0mtotal_bills\u001b[0m\u001b[1;33m)\u001b[0m\u001b[1;33m)\u001b[0m\u001b[1;33m\u001b[0m\u001b[1;33m\u001b[0m\u001b[0m\n\u001b[0m\u001b[0;32m      2\u001b[0m \u001b[0mprint\u001b[0m\u001b[1;33m(\u001b[0m\u001b[0ms1\u001b[0m\u001b[1;33m)\u001b[0m\u001b[1;33m\u001b[0m\u001b[1;33m\u001b[0m\u001b[0m\n\u001b[0;32m      3\u001b[0m \u001b[0mmydb\u001b[0m\u001b[1;33m.\u001b[0m\u001b[0mcommit\u001b[0m\u001b[1;33m(\u001b[0m\u001b[1;33m)\u001b[0m\u001b[1;33m\u001b[0m\u001b[1;33m\u001b[0m\u001b[0m\n",
      "\u001b[1;32m~\\anaconda3\\lib\\site-packages\\mysql\\connector\\cursor_cext.py\u001b[0m in \u001b[0;36mexecute\u001b[1;34m(self, operation, params, multi)\u001b[0m\n\u001b[0;32m    269\u001b[0m             result = self._cnx.cmd_query(stmt, raw=self._raw,\n\u001b[0;32m    270\u001b[0m                                          \u001b[0mbuffered\u001b[0m\u001b[1;33m=\u001b[0m\u001b[0mself\u001b[0m\u001b[1;33m.\u001b[0m\u001b[0m_buffered\u001b[0m\u001b[1;33m,\u001b[0m\u001b[1;33m\u001b[0m\u001b[1;33m\u001b[0m\u001b[0m\n\u001b[1;32m--> 271\u001b[1;33m                                          raw_as_string=self._raw_as_string)\n\u001b[0m\u001b[0;32m    272\u001b[0m         \u001b[1;32mexcept\u001b[0m \u001b[0mMySQLInterfaceError\u001b[0m \u001b[1;32mas\u001b[0m \u001b[0mexc\u001b[0m\u001b[1;33m:\u001b[0m\u001b[1;33m\u001b[0m\u001b[1;33m\u001b[0m\u001b[0m\n\u001b[0;32m    273\u001b[0m             raise errors.get_mysql_exception(msg=exc.msg, errno=exc.errno,\n",
      "\u001b[1;32m~\\anaconda3\\lib\\site-packages\\mysql\\connector\\connection_cext.py\u001b[0m in \u001b[0;36mcmd_query\u001b[1;34m(self, query, raw, buffered, raw_as_string)\u001b[0m\n\u001b[0;32m    539\u001b[0m         \u001b[1;32mexcept\u001b[0m \u001b[0mMySQLInterfaceError\u001b[0m \u001b[1;32mas\u001b[0m \u001b[0mexc\u001b[0m\u001b[1;33m:\u001b[0m\u001b[1;33m\u001b[0m\u001b[1;33m\u001b[0m\u001b[0m\n\u001b[0;32m    540\u001b[0m             raise errors.get_mysql_exception(exc.errno, msg=exc.msg,\n\u001b[1;32m--> 541\u001b[1;33m                                              sqlstate=exc.sqlstate)\n\u001b[0m\u001b[0;32m    542\u001b[0m         \u001b[1;32mexcept\u001b[0m \u001b[0mAttributeError\u001b[0m\u001b[1;33m:\u001b[0m\u001b[1;33m\u001b[0m\u001b[1;33m\u001b[0m\u001b[0m\n\u001b[0;32m    543\u001b[0m             \u001b[1;32mif\u001b[0m \u001b[0mself\u001b[0m\u001b[1;33m.\u001b[0m\u001b[0m_unix_socket\u001b[0m\u001b[1;33m:\u001b[0m\u001b[1;33m\u001b[0m\u001b[1;33m\u001b[0m\u001b[0m\n",
      "\u001b[1;31mProgrammingError\u001b[0m: 1064 (42000): You have an error in your SQL syntax; check the manual that corresponds to your MySQL server version for the right syntax to use near '%s)' at line 1"
     ]
    }
   ],
   "source": [
    "s1 = cursor.execute(\"insert into swiggy.orders values( %s)\".format(restaurant_names,restaurant_address,order_id,ordered_on,delivered_on,ordered_menu,total_bills))\n",
    "print(s1)\n",
    "mydb.commit()"
   ]
  },
  {
   "cell_type": "code",
   "execution_count": 173,
   "id": "e3cbcacb",
   "metadata": {},
   "outputs": [],
   "source": [
    "ordered_menu = dishes_details\n",
    "total_bills = amount_details"
   ]
  },
  {
   "cell_type": "code",
   "execution_count": 184,
   "id": "bb5b6167",
   "metadata": {},
   "outputs": [
    {
     "data": {
      "text/plain": [
       "[['Fish & Fries', 'Hyderabadi Biryani Express', 'Kalyan bhel'],\n",
       " ['Hsr Layout', 'Karve Nagar', 'Katraj'],\n",
       " ['#147723543118', '#128685158512', '#123082271350'],\n",
       " ['#147723543118', '#128685158512', '#123082271350'],\n",
       " [['Sun,', 'Oct', '2,', '2022,', '12:17', 'AM'],\n",
       "  ['Wed,', 'Feb', '23,', '2022,', '03:48', 'PM'],\n",
       "  ['Mon,', 'Dec', '20,', '2021,', '07:47', 'PM']],\n",
       " ['Tawa Catla Fish Fry (2 Pcs) x 1, Tawa/shallow - Mackerel [bangada] Fish Fry - 1pc x 1',\n",
       "  'Hyderabadi Chicken Dum Biryani x 1',\n",
       "  'Special Bhel x 1, Matki Bhel x 1, Dahi Ragdapuri x 1'],\n",
       " ['269', '189', '182']]"
      ]
     },
     "execution_count": 184,
     "metadata": {},
     "output_type": "execute_result"
    }
   ],
   "source": [
    "y"
   ]
  },
  {
   "cell_type": "code",
   "execution_count": 201,
   "id": "b8a788a5",
   "metadata": {},
   "outputs": [
    {
     "ename": "NameError",
     "evalue": "name 'swiggy' is not defined",
     "output_type": "error",
     "traceback": [
      "\u001b[1;31m---------------------------------------------------------------------------\u001b[0m",
      "\u001b[1;31mNameError\u001b[0m                                 Traceback (most recent call last)",
      "\u001b[1;32m<ipython-input-201-4778474d9bc8>\u001b[0m in \u001b[0;36m<module>\u001b[1;34m\u001b[0m\n\u001b[0;32m      1\u001b[0m \u001b[0mplaceholder\u001b[0m \u001b[1;33m=\u001b[0m \u001b[1;34m\", \"\u001b[0m\u001b[1;33m.\u001b[0m\u001b[0mjoin\u001b[0m\u001b[1;33m(\u001b[0m\u001b[1;33m[\u001b[0m\u001b[1;34m\"%s\"\u001b[0m\u001b[1;33m]\u001b[0m \u001b[1;33m*\u001b[0m \u001b[0mlen\u001b[0m\u001b[1;33m(\u001b[0m\u001b[0mdict1\u001b[0m\u001b[1;33m)\u001b[0m\u001b[1;33m)\u001b[0m\u001b[1;33m\u001b[0m\u001b[1;33m\u001b[0m\u001b[0m\n\u001b[1;32m----> 2\u001b[1;33m \u001b[0mstmt\u001b[0m \u001b[1;33m=\u001b[0m \u001b[1;34m\"insert into swiggy.orders ({columns}) values ({values});\"\u001b[0m\u001b[1;33m.\u001b[0m\u001b[0mformat\u001b[0m\u001b[1;33m(\u001b[0m\u001b[0mtable\u001b[0m\u001b[1;33m=\u001b[0m \u001b[0mswiggy\u001b[0m\u001b[1;33m.\u001b[0m\u001b[0morders\u001b[0m\u001b[1;33m,\u001b[0m \u001b[0mcolumns\u001b[0m\u001b[1;33m=\u001b[0m\u001b[1;34m\",\"\u001b[0m\u001b[1;33m.\u001b[0m\u001b[0mjoin\u001b[0m\u001b[1;33m(\u001b[0m\u001b[0mdict1\u001b[0m\u001b[1;33m.\u001b[0m\u001b[0mkeys\u001b[0m\u001b[1;33m(\u001b[0m\u001b[1;33m)\u001b[0m\u001b[1;33m)\u001b[0m\u001b[1;33m,\u001b[0m \u001b[0mvalues\u001b[0m\u001b[1;33m=\u001b[0m\u001b[0mplaceholder\u001b[0m\u001b[1;33m)\u001b[0m\u001b[1;33m\u001b[0m\u001b[1;33m\u001b[0m\u001b[0m\n\u001b[0m\u001b[0;32m      3\u001b[0m \u001b[0mcursor\u001b[0m\u001b[1;33m.\u001b[0m\u001b[0mexecute\u001b[0m\u001b[1;33m(\u001b[0m\u001b[0mstmt\u001b[0m\u001b[1;33m,\u001b[0m \u001b[0mlist\u001b[0m\u001b[1;33m(\u001b[0m\u001b[0mdict1\u001b[0m\u001b[1;33m.\u001b[0m\u001b[0mvalues\u001b[0m\u001b[1;33m(\u001b[0m\u001b[1;33m)\u001b[0m\u001b[1;33m)\u001b[0m\u001b[1;33m)\u001b[0m\u001b[1;33m\u001b[0m\u001b[1;33m\u001b[0m\u001b[0m\n",
      "\u001b[1;31mNameError\u001b[0m: name 'swiggy' is not defined"
     ]
    }
   ],
   "source": [
    "placeholder = \", \".join([\"%s\"] * len(dict1))\n",
    "stmt = \"insert into swiggy.orders ({columns}) values ({values});\".format(table= swiggy.orders, columns=\",\".join(dict1.keys()), values=placeholder)\n",
    "cursor.execute(stmt, list(dict1.values()))"
   ]
  },
  {
   "cell_type": "code",
   "execution_count": null,
   "id": "3a83aa18",
   "metadata": {},
   "outputs": [],
   "source": []
  },
  {
   "cell_type": "code",
   "execution_count": null,
   "id": "6be626a1",
   "metadata": {},
   "outputs": [],
   "source": []
  },
  {
   "cell_type": "code",
   "execution_count": 405,
   "id": "383c641b",
   "metadata": {},
   "outputs": [
    {
     "name": "stdout",
     "output_type": "stream",
     "text": [
      "['Fish & Fries', 'Hyderabadi Biryani Express', 'Kalyan bhel']\n",
      "['Hsr Layout', 'Karve Nagar', 'Katraj']\n"
     ]
    }
   ],
   "source": [
    "print(restaurant_names)\n",
    "print(restaurant_address)\n",
    "#     print(restaurant_names[i])\n",
    "#     print(restaurant_address[i])\n",
    "#     print(order_id[i])\n",
    "#     print(order_id[i])\n",
    "#     print(delivered_on[i])\n",
    "#     print(dishes_details[i])\n",
    "#     print(amount_details[i])"
   ]
  },
  {
   "cell_type": "code",
   "execution_count": 406,
   "id": "469897c9",
   "metadata": {},
   "outputs": [],
   "source": [
    "arr = [restaurant_names, restaurant_address, order_id, ordered_on,delivered_on, dishes_details, amount_details]"
   ]
  },
  {
   "cell_type": "code",
   "execution_count": 407,
   "id": "33d5ac1d",
   "metadata": {},
   "outputs": [
    {
     "data": {
      "text/plain": [
       "[['Fish & Fries', 'Hyderabadi Biryani Express', 'Kalyan bhel'],\n",
       " ['Hsr Layout', 'Karve Nagar', 'Katraj'],\n",
       " ['#147723543118', '#128685158512', '#123082271350'],\n",
       " [['Sat,', 'Oct', '1,', '2022,', '11:49', 'PM'],\n",
       "  ['Wed,', 'Feb', '23,', '2022,', '03:22', 'PM'],\n",
       "  ['Mon,', 'Dec', '20,', '2021,', '07:01', 'PM']],\n",
       " [['Sun,', 'Oct', '2,', '2022,', '12:17', 'AM'],\n",
       "  ['Wed,', 'Feb', '23,', '2022,', '03:48', 'PM'],\n",
       "  ['Mon,', 'Dec', '20,', '2021,', '07:47', 'PM']],\n",
       " ['Tawa Catla Fish Fry (2 Pcs) x 1, Tawa/shallow - Mackerel [bangada] Fish Fry - 1pc x 1',\n",
       "  'Hyderabadi Chicken Dum Biryani x 1',\n",
       "  'Special Bhel x 1, Matki Bhel x 1, Dahi Ragdapuri x 1'],\n",
       " ['269', '189', '182']]"
      ]
     },
     "execution_count": 407,
     "metadata": {},
     "output_type": "execute_result"
    }
   ],
   "source": [
    "arr"
   ]
  },
  {
   "cell_type": "code",
   "execution_count": 467,
   "id": "5e7898b9",
   "metadata": {},
   "outputs": [
    {
     "name": "stdout",
     "output_type": "stream",
     "text": [
      "Fish & Fries\n",
      "Hyderabadi Biryani Express\n",
      "Kalyan bhel\n",
      "Hsr Layout\n",
      "Karve Nagar\n",
      "Katraj\n",
      "#147723543118\n",
      "#128685158512\n",
      "#123082271350\n",
      "['Sat,', 'Oct', '1,', '2022,', '11:49', 'PM']\n",
      "['Wed,', 'Feb', '23,', '2022,', '03:22', 'PM']\n",
      "['Mon,', 'Dec', '20,', '2021,', '07:01', 'PM']\n",
      "['Sun,', 'Oct', '2,', '2022,', '12:17', 'AM']\n",
      "['Wed,', 'Feb', '23,', '2022,', '03:48', 'PM']\n",
      "['Mon,', 'Dec', '20,', '2021,', '07:47', 'PM']\n",
      "Tawa Catla Fish Fry (2 Pcs) x 1, Tawa/shallow - Mackerel [bangada] Fish Fry - 1pc x 1\n",
      "Hyderabadi Chicken Dum Biryani x 1\n",
      "Special Bhel x 1, Matki Bhel x 1, Dahi Ragdapuri x 1\n",
      "269\n",
      "189\n",
      "182\n"
     ]
    }
   ],
   "source": [
    "l = []\n",
    "for i in arr:\n",
    "    for j in i:\n",
    "        print(j)"
   ]
  },
  {
   "cell_type": "code",
   "execution_count": 454,
   "id": "1e00e4ac",
   "metadata": {},
   "outputs": [
    {
     "data": {
      "text/plain": [
       "'Hyderabadi Biryani Express'"
      ]
     },
     "execution_count": 454,
     "metadata": {},
     "output_type": "execute_result"
    }
   ],
   "source": [
    "arr[0][1]"
   ]
  },
  {
   "cell_type": "code",
   "execution_count": 468,
   "id": "c157c240",
   "metadata": {},
   "outputs": [],
   "source": [
    "ae = [['Fish & Fries', 'Hyderabadi Biryani Express', 'Kalyan bhel'],\n",
    " ['Hsr Layout', 'Karve Nagar', 'Katraj'],\n",
    " ['#147723543118', '#128685158512', '#123082271350'],\n",
    " [['Sat,', 'Oct', '1,', '2022,', '11:49', 'PM'],\n",
    "  ['Wed,', 'Feb', '23,', '2022,', '03:22', 'PM'],\n",
    "  ['Mon,', 'Dec', '20,', '2021,', '07:01', 'PM']],\n",
    " [['Sun,', 'Oct', '2,', '2022,', '12:17', 'AM'],\n",
    "  ['Wed,', 'Feb', '23,', '2022,', '03:48', 'PM'],\n",
    "  ['Mon,', 'Dec', '20,', '2021,', '07:47', 'PM']],\n",
    " ['Tawa Catla Fish Fry (2 Pcs) x 1, Tawa/shallow - Mackerel [bangada] Fish Fry - 1pc x 1',\n",
    "  'Hyderabadi Chicken Dum Biryani x 1',\n",
    "  'Special Bhel x 1, Matki Bhel x 1, Dahi Ragdapuri x 1'],\n",
    " ['269', '189', '182']]"
   ]
  },
  {
   "cell_type": "code",
   "execution_count": 516,
   "id": "2e7e09b0",
   "metadata": {},
   "outputs": [],
   "source": []
  },
  {
   "cell_type": "code",
   "execution_count": 517,
   "id": "497b77fa",
   "metadata": {},
   "outputs": [],
   "source": []
  },
  {
   "cell_type": "code",
   "execution_count": 529,
   "id": "29cb3ae2",
   "metadata": {},
   "outputs": [
    {
     "data": {
      "text/plain": [
       "('Fish & Fries',\n",
       " 'Hsr Layout',\n",
       " '#147723543118',\n",
       " ['Sat,', 'Oct', '1,', '2022,', '11:49', 'PM'],\n",
       " ['Sun,', 'Oct', '2,', '2022,', '12:17', 'AM'],\n",
       " 'Tawa Catla Fish Fry (2 Pcs) x 1, Tawa/shallow - Mackerel [bangada] Fish Fry - 1pc x 1',\n",
       " '269')"
      ]
     },
     "execution_count": 529,
     "metadata": {},
     "output_type": "execute_result"
    }
   ],
   "source": [
    "l0 = []\n",
    "for i in ae:\n",
    "    l0.append(i[0])\n",
    "l0 = tuple(l0)\n",
    "l0"
   ]
  },
  {
   "cell_type": "code",
   "execution_count": 530,
   "id": "02446587",
   "metadata": {},
   "outputs": [
    {
     "data": {
      "text/plain": [
       "('Hyderabadi Biryani Express',\n",
       " 'Karve Nagar',\n",
       " '#128685158512',\n",
       " ['Wed,', 'Feb', '23,', '2022,', '03:22', 'PM'],\n",
       " ['Wed,', 'Feb', '23,', '2022,', '03:48', 'PM'],\n",
       " 'Hyderabadi Chicken Dum Biryani x 1',\n",
       " '189')"
      ]
     },
     "execution_count": 530,
     "metadata": {},
     "output_type": "execute_result"
    }
   ],
   "source": [
    "l1 = []\n",
    "for i in ae:\n",
    "    l1.append(i[1])\n",
    "l1 = tuple(l1)\n",
    "l1"
   ]
  },
  {
   "cell_type": "code",
   "execution_count": 531,
   "id": "8c91714c",
   "metadata": {},
   "outputs": [
    {
     "data": {
      "text/plain": [
       "('Kalyan bhel',\n",
       " 'Katraj',\n",
       " '#123082271350',\n",
       " ['Mon,', 'Dec', '20,', '2021,', '07:01', 'PM'],\n",
       " ['Mon,', 'Dec', '20,', '2021,', '07:47', 'PM'],\n",
       " 'Special Bhel x 1, Matki Bhel x 1, Dahi Ragdapuri x 1',\n",
       " '182')"
      ]
     },
     "execution_count": 531,
     "metadata": {},
     "output_type": "execute_result"
    }
   ],
   "source": [
    "l2 = []\n",
    "for i in ae:\n",
    "    l2.append(i[2])\n",
    "l2 = tuple(l2)\n",
    "l2"
   ]
  },
  {
   "cell_type": "code",
   "execution_count": null,
   "id": "11826468",
   "metadata": {},
   "outputs": [],
   "source": []
  },
  {
   "cell_type": "code",
   "execution_count": 546,
   "id": "82245cc8",
   "metadata": {},
   "outputs": [
    {
     "data": {
      "text/plain": [
       "[('Fish & Fries',\n",
       "  'Hsr Layout',\n",
       "  '#147723543118',\n",
       "  ['Sat,', 'Oct', '1,', '2022,', '11:49', 'PM'],\n",
       "  ['Sun,', 'Oct', '2,', '2022,', '12:17', 'AM'],\n",
       "  'Tawa Catla Fish Fry (2 Pcs) x 1, Tawa/shallow - Mackerel [bangada] Fish Fry - 1pc x 1',\n",
       "  '269'),\n",
       " ('Hyderabadi Biryani Express',\n",
       "  'Karve Nagar',\n",
       "  '#128685158512',\n",
       "  ['Wed,', 'Feb', '23,', '2022,', '03:22', 'PM'],\n",
       "  ['Wed,', 'Feb', '23,', '2022,', '03:48', 'PM'],\n",
       "  'Hyderabadi Chicken Dum Biryani x 1',\n",
       "  '189'),\n",
       " ('Kalyan bhel',\n",
       "  'Katraj',\n",
       "  '#123082271350',\n",
       "  ['Mon,', 'Dec', '20,', '2021,', '07:01', 'PM'],\n",
       "  ['Mon,', 'Dec', '20,', '2021,', '07:47', 'PM'],\n",
       "  'Special Bhel x 1, Matki Bhel x 1, Dahi Ragdapuri x 1',\n",
       "  '182')]"
      ]
     },
     "execution_count": 546,
     "metadata": {},
     "output_type": "execute_result"
    }
   ],
   "source": [
    "l=[]\n",
    "l.extend((l0,l1,l2))\n",
    "l"
   ]
  },
  {
   "cell_type": "code",
   "execution_count": null,
   "id": "89b91646",
   "metadata": {},
   "outputs": [],
   "source": []
  },
  {
   "cell_type": "code",
   "execution_count": null,
   "id": "b5e58458",
   "metadata": {},
   "outputs": [],
   "source": []
  },
  {
   "cell_type": "code",
   "execution_count": null,
   "id": "0fc7d17b",
   "metadata": {},
   "outputs": [],
   "source": []
  }
 ],
 "metadata": {
  "kernelspec": {
   "display_name": "Python 3",
   "language": "python",
   "name": "python3"
  },
  "language_info": {
   "codemirror_mode": {
    "name": "ipython",
    "version": 3
   },
   "file_extension": ".py",
   "mimetype": "text/x-python",
   "name": "python",
   "nbconvert_exporter": "python",
   "pygments_lexer": "ipython3",
   "version": "3.7.13"
  }
 },
 "nbformat": 4,
 "nbformat_minor": 5
}
